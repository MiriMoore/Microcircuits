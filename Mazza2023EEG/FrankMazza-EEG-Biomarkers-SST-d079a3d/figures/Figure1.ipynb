{
 "cells": [
  {
   "cell_type": "code",
   "metadata": {
    "ExecuteTime": {
     "end_time": "2024-08-01T07:20:47.868186Z",
     "start_time": "2024-08-01T07:20:47.865511Z"
    }
   },
   "source": [
    "import matplotlib\n",
    "import matplotlib.pyplot as plt\n",
    "from matplotlib.gridspec import GridSpec\n",
    "from mpl_toolkits.mplot3d import Axes3D\n",
    "from matplotlib.collections import LineCollection\n",
    "from matplotlib.collections import PolyCollection\n",
    "import matplotlib.image as img\n",
    "import matplotlib.patches as mpatches\n",
    "from mpl_toolkits.axes_grid1.anchored_artists import AnchoredSizeBar\n",
    "from mpl_toolkits.axes_grid1.inset_locator import (inset_axes, InsetPosition,mark_inset)\n",
    "import numpy as np\n",
    "np.seterr(divide='ignore', invalid='ignore')\n",
    "from PIL import Image\n",
    "\n",
    "basepath = '/Users/Miri/Documents/Research/EPhys/Modelling/IQ_Exc/Microcircuits/Mazza2023EEG/FrankMazza-EEG-Biomarkers-SST-d079a3d'"
   ],
   "outputs": [],
   "execution_count": 3
  },
  {
   "cell_type": "code",
   "metadata": {
    "ExecuteTime": {
     "end_time": "2024-08-01T07:20:47.872845Z",
     "start_time": "2024-08-01T07:20:47.869340Z"
    }
   },
   "source": [
    "def plot_2D_cell(celltype,fig,plotspecs):\n",
    "    ax = fig.add_axes(plotspecs,frameon=False)\n",
    "    polycol = PolyCollection(np.load(basepath+celltype+'_polygons.npy'), edgecolors=pop_colors[celltype], facecolors=pop_colors[celltype])\n",
    "    ax.add_collection(polycol)\n",
    "    ax.axis(ax.axis('equal'))\n",
    "    ax.set_title(newlabels[str(celltype)], fontsize=12, y=.98,x=.5)\n",
    "    ax.set_xticks([])\n",
    "    ax.set_yticks([])\n",
    "    return ax\n",
    "\n",
    "def plot_timeseries(fig,plotspecs,ts):\n",
    "    ax = fig.add_axes(plotspecs,frameon=False)\n",
    "    ax.plot(ts,c='k')\n",
    "    return ax\n",
    "\n",
    "def plot_raster(fig,plotspecs,SPIKE):\n",
    "    ax = fig.add_axes(plotspecs)\n",
    "    for name, spts, gids in zip(popnames, SPIKE.item(0)['times'], SPIKE.item(0)['gids']):\n",
    "        t = []\n",
    "        g = []\n",
    "        for spt, gid in zip(spts, gids):\n",
    "            t = np.r_[t, spt]\n",
    "            g = np.r_[g, np.zeros(spt.size)+gid]\n",
    "        ax.plot(t[t >= 0], g[t >= 0], 's', color=pop_colors[name], markersize=.5)\n",
    "    return ax"
   ],
   "outputs": [],
   "execution_count": 4
  },
  {
   "cell_type": "code",
   "metadata": {
    "ExecuteTime": {
     "end_time": "2024-08-01T07:20:47.875719Z",
     "start_time": "2024-08-01T07:20:47.873612Z"
    }
   },
   "source": [
    "popnames = ['HL23PN1', 'HL23MN1', 'HL23BN1', 'HL23VN1']\n",
    "pop_colors = {'HL23PN1':'k', 'HL23MN1':'red', 'HL23BN1':'green', 'HL23VN1':'orange'}\n",
    "newlabels = {'HL23PN1':'Pyr', 'HL23MN1':'SST', 'HL23BN1':'PV', 'HL23VN1':'VIP'}\n",
    "\n",
    "font = {'family':'arial','weight':'normal','size':10}\n",
    "labelfont = {'family':'arial','weight':'bold','size':14}\n",
    "labelfont2 = {'family':'arial','weight':'bold','size':10}"
   ],
   "outputs": [],
   "execution_count": 5
  },
  {
   "cell_type": "code",
   "metadata": {
    "ExecuteTime": {
     "end_time": "2024-08-01T07:20:48.121784Z",
     "start_time": "2024-08-01T07:20:47.876838Z"
    }
   },
   "source": [
    "# fig 1\n",
    "fig = plt.figure(figsize = (10,6))\n",
    "\n",
    "font = {'family':'arial','weight':'normal','size':10}\n",
    "labelfont = {'family':'arial','weight':'bold','size':14}\n",
    "labelfont2 = {'family':'arial','weight':'bold','size':10}\n",
    "\n",
    "\n",
    "matplotlib.rc('font', **font)\n",
    "\n",
    "A = fig.add_axes([.13,.65,.25,.45],frameon=False)\n",
    "# A.imshow(plt.imread(basepath + 'Figure1-A-side.png'))\n",
    "# A.imshow(plt.imread(basepath + 'Figure1-A-side.png'))\n",
    "A.set_xlim(70,425)\n",
    "A.set_ylim(290,40)\n",
    "A.set_xticks([])\n",
    "A.set_yticks([])\n",
    "A.scatter(130,120,marker='.',s=300,color='yellow')\n",
    "circle = plt.Circle((131.5, 121), 14, color='yellow',fill=False)\n",
    "A.add_patch(circle)\n",
    "\n",
    "\n",
    "A2 = fig.add_axes([.42,.67,.2,.4],frameon=False)\n",
    "A2.imshow(plt.imread(basepath + 'Column.jpg'))\n",
    "\n",
    "A2.set_xlim(80,390)\n",
    "A2.set_ylim(250,0)\n",
    "A2.set_ylabel('Cortical Layers',**font)\n",
    "A2.set_title('Cortical Surface',loc='left',x=.39,y=.97,**font)\n",
    "x = 85\n",
    "A2.annotate(xy=(x,65),s='I',**font)\n",
    "A2.annotate(xy=(x,105),s='II / III',**font) \n",
    "A2.annotate(xy=(x,150),s='IV',**font) \n",
    "A2.annotate(xy=(x,180),s='V',**font)\n",
    "A2.annotate(xy=(x,215),s='VI',**font)\n",
    "\n",
    "xs = np.random.uniform(low=190, high=310, size=(150,))\n",
    "ys = np.random.uniform(low=70, high=110, size=(150,))\n",
    "\n",
    "A2.scatter(xs,ys,color='k',edgecolor='k',alpha=.5,s=10)\n",
    "A2.set_xticks([])\n",
    "A2.set_yticks([])\n",
    "\n",
    "B = fig.add_axes([.15,0,.4,.7],frameon=False)\n",
    "B.imshow(plt.imread(basepath + 'Figure1-B.png'))\n",
    "B.set_xlim(1000,3900)\n",
    "B.set_ylim(4400,1000)\n",
    "B.set_xticks([])\n",
    "B.set_yticks([])\n",
    "\n",
    "cellh = .18\n",
    "cellw = .2\n",
    "\n",
    "PN = plot_2D_cell('HL23PN1',fig,[.03,.4,cellw,cellh])\n",
    "MN = plot_2D_cell('HL23MN1',fig,[.03,.1,cellw,cellh])\n",
    "BN = plot_2D_cell('HL23BN1',fig,[.5,.4,cellw,cellh])\n",
    "VN = plot_2D_cell('HL23VN1',fig,[.5,.1,cellw,cellh])\n",
    "\n",
    "# PN.set_title('C', loc='left', y=labely, x=labelx,**labelfont)\n",
    "\n",
    "\n",
    "run = 0 #6 is when i want good image\n",
    "seconds_to_plot = 2\n",
    "\n",
    "end = int(40000*seconds_to_plot)\n",
    "\n",
    "l = .75\n",
    "w = .35\n",
    "\n",
    "lfp = np.load(basepath + 'Fig1_LFP.npy')\n",
    "eeg = np.load(basepath + 'Fig1_EEG.npy')\n",
    "\n",
    "D = plot_timeseries(fig,[l,.93,w,.1],eeg)\n",
    "E = plot_timeseries(fig,[l,.75,w,.1],lfp)\n",
    "E.set_ylim(min(lfp), max(lfp)*1.3)\n",
    "\n",
    "\n",
    "D.set_title('B',loc='left',y=1,x=-.2,**labelfont)\n",
    "D.set_title('EEG', loc='center')\n",
    "\n",
    "E.set_title('C',loc='left',y=.8,x=-.2,**labelfont)\n",
    "\n",
    "lfp_depth = 725\n",
    "lfp_title = 'LFP (-'+str(lfp_depth)+'$\\\\mu$m)'\n",
    "E.set_title(lfp_title, y=.8,loc='center')\n",
    "\n",
    "\n",
    "[ax.ticklabel_format(axis='both',useOffset=False, style='plain') for ax in [D, E]]\n",
    "[ax.set_yticks([]) for ax in [D,E]]\n",
    "[ax.set_xlim(0,end) for ax in [D,E]]\n",
    "[ax.set_xticks([]) for ax in [D,E]]\n",
    "[plt.setp(ax.get_xticklabels(), visible=False) for ax in [E]]\n",
    "\n",
    "SPIKES = np.load(basepath + 'Fig1_Spikes.npy',allow_pickle=True)\n",
    "\n",
    "F = plot_raster(fig,[l,.13,w,.5],SPIKES)\n",
    "F.set_title('D',loc='left', y=1,x=-.2,**labelfont)\n",
    "F.set_xlim(2000,4000)\n",
    "F.set_xticks(np.arange(2000,4500,500))\n",
    "F.spines['right'].set_visible(False)\n",
    "F.spines['top'].set_visible(False)\n",
    "F.set_ylabel('Cell Number',**font)\n",
    "F.set_xlabel('Time (ms)',**font)\n",
    "F.set_ylim(0,1000)\n",
    "\n",
    "a = fig.text(.1,1.06,s='A',**labelfont)\n",
    "\n",
    "# fig.savefig('/home/e/etayhay/frankm/Mazza2022_scratch/figures/figoutput/Figure1.jpeg', facecolor='white', edgecolor='none',bbox_inches = \"tight\",dpi=600)\n",
    "\n"
   ],
   "outputs": [
    {
     "ename": "FileNotFoundError",
     "evalue": "[Errno 2] No such file or directory: '/home/e/etayhay/frankm/Mazza2022_scratch/data/figures/Figure1/Figure1-A-side.png'",
     "output_type": "error",
     "traceback": [
      "\u001B[0;31m---------------------------------------------------------------------------\u001B[0m",
      "\u001B[0;31mFileNotFoundError\u001B[0m                         Traceback (most recent call last)",
      "Cell \u001B[0;32mIn[6], line 12\u001B[0m\n\u001B[1;32m      9\u001B[0m matplotlib\u001B[38;5;241m.\u001B[39mrc(\u001B[38;5;124m'\u001B[39m\u001B[38;5;124mfont\u001B[39m\u001B[38;5;124m'\u001B[39m, \u001B[38;5;241m*\u001B[39m\u001B[38;5;241m*\u001B[39mfont)\n\u001B[1;32m     11\u001B[0m A \u001B[38;5;241m=\u001B[39m fig\u001B[38;5;241m.\u001B[39madd_axes([\u001B[38;5;241m.13\u001B[39m,\u001B[38;5;241m.65\u001B[39m,\u001B[38;5;241m.25\u001B[39m,\u001B[38;5;241m.45\u001B[39m],frameon\u001B[38;5;241m=\u001B[39m\u001B[38;5;28;01mFalse\u001B[39;00m)\n\u001B[0;32m---> 12\u001B[0m A\u001B[38;5;241m.\u001B[39mimshow(\u001B[43mplt\u001B[49m\u001B[38;5;241;43m.\u001B[39;49m\u001B[43mimread\u001B[49m\u001B[43m(\u001B[49m\u001B[43mbasepath\u001B[49m\u001B[43m \u001B[49m\u001B[38;5;241;43m+\u001B[39;49m\u001B[43m \u001B[49m\u001B[38;5;124;43m'\u001B[39;49m\u001B[38;5;124;43mFigure1-A-side.png\u001B[39;49m\u001B[38;5;124;43m'\u001B[39;49m\u001B[43m)\u001B[49m)\n\u001B[1;32m     13\u001B[0m A\u001B[38;5;241m.\u001B[39mset_xlim(\u001B[38;5;241m70\u001B[39m,\u001B[38;5;241m425\u001B[39m)\n\u001B[1;32m     14\u001B[0m A\u001B[38;5;241m.\u001B[39mset_ylim(\u001B[38;5;241m290\u001B[39m,\u001B[38;5;241m40\u001B[39m)\n",
      "File \u001B[0;32m~/anaconda3/envs/neuron_env/lib/python3.11/site-packages/matplotlib/pyplot.py:2597\u001B[0m, in \u001B[0;36mimread\u001B[0;34m(fname, format)\u001B[0m\n\u001B[1;32m   2593\u001B[0m \u001B[38;5;129m@_copy_docstring_and_deprecators\u001B[39m(matplotlib\u001B[38;5;241m.\u001B[39mimage\u001B[38;5;241m.\u001B[39mimread)\n\u001B[1;32m   2594\u001B[0m \u001B[38;5;28;01mdef\u001B[39;00m \u001B[38;5;21mimread\u001B[39m(\n\u001B[1;32m   2595\u001B[0m         fname: \u001B[38;5;28mstr\u001B[39m \u001B[38;5;241m|\u001B[39m pathlib\u001B[38;5;241m.\u001B[39mPath \u001B[38;5;241m|\u001B[39m BinaryIO, \u001B[38;5;28mformat\u001B[39m: \u001B[38;5;28mstr\u001B[39m \u001B[38;5;241m|\u001B[39m \u001B[38;5;28;01mNone\u001B[39;00m \u001B[38;5;241m=\u001B[39m \u001B[38;5;28;01mNone\u001B[39;00m\n\u001B[1;32m   2596\u001B[0m ) \u001B[38;5;241m-\u001B[39m\u001B[38;5;241m>\u001B[39m np\u001B[38;5;241m.\u001B[39mndarray:\n\u001B[0;32m-> 2597\u001B[0m     \u001B[38;5;28;01mreturn\u001B[39;00m \u001B[43mmatplotlib\u001B[49m\u001B[38;5;241;43m.\u001B[39;49m\u001B[43mimage\u001B[49m\u001B[38;5;241;43m.\u001B[39;49m\u001B[43mimread\u001B[49m\u001B[43m(\u001B[49m\u001B[43mfname\u001B[49m\u001B[43m,\u001B[49m\u001B[43m \u001B[49m\u001B[38;5;28;43mformat\u001B[39;49m\u001B[43m)\u001B[49m\n",
      "File \u001B[0;32m~/anaconda3/envs/neuron_env/lib/python3.11/site-packages/matplotlib/image.py:1544\u001B[0m, in \u001B[0;36mimread\u001B[0;34m(fname, format)\u001B[0m\n\u001B[1;32m   1537\u001B[0m \u001B[38;5;28;01mif\u001B[39;00m \u001B[38;5;28misinstance\u001B[39m(fname, \u001B[38;5;28mstr\u001B[39m) \u001B[38;5;129;01mand\u001B[39;00m \u001B[38;5;28mlen\u001B[39m(parse\u001B[38;5;241m.\u001B[39murlparse(fname)\u001B[38;5;241m.\u001B[39mscheme) \u001B[38;5;241m>\u001B[39m \u001B[38;5;241m1\u001B[39m:\n\u001B[1;32m   1538\u001B[0m     \u001B[38;5;66;03m# Pillow doesn't handle URLs directly.\u001B[39;00m\n\u001B[1;32m   1539\u001B[0m     \u001B[38;5;28;01mraise\u001B[39;00m \u001B[38;5;167;01mValueError\u001B[39;00m(\n\u001B[1;32m   1540\u001B[0m         \u001B[38;5;124m\"\u001B[39m\u001B[38;5;124mPlease open the URL for reading and pass the \u001B[39m\u001B[38;5;124m\"\u001B[39m\n\u001B[1;32m   1541\u001B[0m         \u001B[38;5;124m\"\u001B[39m\u001B[38;5;124mresult to Pillow, e.g. with \u001B[39m\u001B[38;5;124m\"\u001B[39m\n\u001B[1;32m   1542\u001B[0m         \u001B[38;5;124m\"\u001B[39m\u001B[38;5;124m``np.array(PIL.Image.open(urllib.request.urlopen(url)))``.\u001B[39m\u001B[38;5;124m\"\u001B[39m\n\u001B[1;32m   1543\u001B[0m         )\n\u001B[0;32m-> 1544\u001B[0m \u001B[38;5;28;01mwith\u001B[39;00m \u001B[43mimg_open\u001B[49m\u001B[43m(\u001B[49m\u001B[43mfname\u001B[49m\u001B[43m)\u001B[49m \u001B[38;5;28;01mas\u001B[39;00m image:\n\u001B[1;32m   1545\u001B[0m     \u001B[38;5;28;01mreturn\u001B[39;00m (_pil_png_to_float_array(image)\n\u001B[1;32m   1546\u001B[0m             \u001B[38;5;28;01mif\u001B[39;00m \u001B[38;5;28misinstance\u001B[39m(image, PIL\u001B[38;5;241m.\u001B[39mPngImagePlugin\u001B[38;5;241m.\u001B[39mPngImageFile) \u001B[38;5;28;01melse\u001B[39;00m\n\u001B[1;32m   1547\u001B[0m             pil_to_array(image))\n",
      "File \u001B[0;32m~/anaconda3/envs/neuron_env/lib/python3.11/site-packages/PIL/ImageFile.py:126\u001B[0m, in \u001B[0;36mImageFile.__init__\u001B[0;34m(self, fp, filename)\u001B[0m\n\u001B[1;32m    122\u001B[0m \u001B[38;5;28mself\u001B[39m\u001B[38;5;241m.\u001B[39mdecodermaxblock \u001B[38;5;241m=\u001B[39m MAXBLOCK\n\u001B[1;32m    124\u001B[0m \u001B[38;5;28;01mif\u001B[39;00m is_path(fp):\n\u001B[1;32m    125\u001B[0m     \u001B[38;5;66;03m# filename\u001B[39;00m\n\u001B[0;32m--> 126\u001B[0m     \u001B[38;5;28mself\u001B[39m\u001B[38;5;241m.\u001B[39mfp \u001B[38;5;241m=\u001B[39m \u001B[38;5;28;43mopen\u001B[39;49m\u001B[43m(\u001B[49m\u001B[43mfp\u001B[49m\u001B[43m,\u001B[49m\u001B[43m \u001B[49m\u001B[38;5;124;43m\"\u001B[39;49m\u001B[38;5;124;43mrb\u001B[39;49m\u001B[38;5;124;43m\"\u001B[39;49m\u001B[43m)\u001B[49m\n\u001B[1;32m    127\u001B[0m     \u001B[38;5;28mself\u001B[39m\u001B[38;5;241m.\u001B[39mfilename \u001B[38;5;241m=\u001B[39m fp\n\u001B[1;32m    128\u001B[0m     \u001B[38;5;28mself\u001B[39m\u001B[38;5;241m.\u001B[39m_exclusive_fp \u001B[38;5;241m=\u001B[39m \u001B[38;5;28;01mTrue\u001B[39;00m\n",
      "\u001B[0;31mFileNotFoundError\u001B[0m: [Errno 2] No such file or directory: '/home/e/etayhay/frankm/Mazza2022_scratch/data/figures/Figure1/Figure1-A-side.png'"
     ]
    },
    {
     "data": {
      "text/plain": [
       "<Figure size 1000x600 with 1 Axes>"
      ],
      "image/png": "[encoded data removed]"
     },
     "metadata": {},
     "output_type": "display_data"
    }
   ],
   "execution_count": 6
  },
  {
   "cell_type": "markdown",
   "metadata": {},
   "source": [
    "# Creating A and B"
   ]
  },
  {
   "cell_type": "code",
   "metadata": {
    "ExecuteTime": {
     "end_time": "2024-08-01T07:20:48.122541Z",
     "start_time": "2024-08-01T07:20:48.122489Z"
    }
   },
   "source": [
    "#===========================================\n",
    "#A - make fig then screenshot, remove backgrounnd online, load in PNG\n",
    "#===========================================\n",
    "\n",
    "import time\n",
    "print('Loading packages ...')\n",
    "tic = time.perf_counter()\n",
    "import numpy as np\n",
    "import math\n",
    "import mne\n",
    "import os\n",
    "import os.path as op\n",
    "import mne\n",
    "import pandas as pd\n",
    "import matplotlib.pyplot as plt\n",
    "\n",
    "from mne.datasets import sample\n",
    "from nilearn.plotting import plot_surf\n",
    "from mne.surface import _normal_orth\n",
    "from mne.surface import _compute_nearest\n",
    "from mne.viz import plot_alignment, snapshot_brain_montage\n",
    "from nilearn.plotting import plot_anat\n",
    "from nilearn.datasets import load_mni152_template\n",
    "\n",
    "print('Done, took',round(time.perf_counter()-tic,2),'s')\n",
    "\n",
    "# create brain image to load in\n",
    "\n",
    "data_path = sample.data_path()\n",
    "\n",
    "# The transformation file obtained by coregistration\n",
    "trans = data_path + '/MEG/sample/sample_audvis_raw-trans.fif'\n",
    "\n",
    "data_path = sample.data_path()\n",
    "raw_fname = data_path + '/MEG/sample/sample_audvis_raw.fif'\n",
    "subjects_dir = data_path + '/subjects'\n",
    "subject = 'sample'\n",
    "\n",
    "fname_ave = op.join(data_path, 'MEG', 'sample', 'sample_audvis-ave.fif')\n",
    "evoked = mne.read_evokeds(fname_ave, condition='Right Auditory',baseline=(None, 0))\n",
    "evoked.pick_types(meg=False, eeg=True)\n",
    "\n",
    "fig = plot_alignment(evoked.info, subject=subject, subjects_dir=subjects_dir,eeg=False,meg=False,\n",
    "                     surfaces=['pial'], trans=trans, coord_frame='mri')\n",
    "#fig2 = mne.viz.set_3d_view(fig)#, 200, 70)#, focalpoint=[0, -0.005, 0.03])\n",
    "# fig2 = mne.viz.set_3d_view(fig)\n"
   ],
   "outputs": [],
   "execution_count": null
  },
  {
   "cell_type": "code",
   "metadata": {},
   "source": [
    "#===========================================\n",
    "# B - Circuit volume image shorter\n",
    "#===========================================\n",
    "fig = plt.figure(figsize=(10,20))\n",
    "\n",
    "ax = plt.subplot(111,projection = '3d')\n",
    "ax.view_init(elev=15,azim=45)\n",
    "\n",
    "filename = 'Circuit_output/fig1_cell_positions_and_rotations.h5'\n",
    "for name in popnames:\n",
    "        with h5py.File(filename,'r') as f:\n",
    "            for i in range(len(f[name])):\n",
    "                ax.scatter(f[name][i][1], f[name][i][2], f[name][i][3]+350, c=pop_colors[name], marker='.',s=500, alpha=.5, edgecolor=pop_colors[name])\n",
    "\n",
    "ax.set_xlim([-250, 250])\n",
    "ax.set_ylim([-250, 250])\n",
    "ax.set_zlim([-1300, 0])\n",
    "\n",
    "ax.set_xticks(ticks=[-200,-100, 0, 100,200],)\n",
    "ax.set_yticks(ticks=[-200, -100,0, 100,200])\n",
    "ax.set_xticklabels([200,100,0,-100,-200])\n",
    "ax.zaxis.set_tick_params(labelsize=18,pad=80)\n",
    "ax.xaxis.set_tick_params(labelsize=18,pad=20)\n",
    "ax.yaxis.set_tick_params(labelsize=18,pad=20)\n",
    "\n",
    "#fig.savefig('Figure1-B.png',facecolor='white', edgecolor='none',dpi=650,bbox_inches='tight')"
   ],
   "outputs": [],
   "execution_count": null
  }
 ],
 "metadata": {
  "kernelspec": {
   "display_name": "Python 3 (ipykernel)",
   "language": "python",
   "name": "python3"
  },
  "language_info": {
   "codemirror_mode": {
    "name": "ipython",
    "version": 3
   },
   "file_extension": ".py",
   "mimetype": "text/x-python",
   "name": "python",
   "nbconvert_exporter": "python",
   "pygments_lexer": "ipython3",
   "version": "3.9.10"
  }
 },
 "nbformat": 4,
 "nbformat_minor": 4
}
