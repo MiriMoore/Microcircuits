{
 "cells": [
  {
   "cell_type": "markdown",
   "metadata": {},
   "source": [
    "# Stats\n",
    "## Peak freq"
   ]
  },
  {
   "cell_type": "code",
   "execution_count": null,
   "metadata": {},
   "outputs": [],
   "source": [
    "import numpy as np\n",
    "from sklearn.utils import resample\n",
    "import scipy.signal as ss\n",
    "import mne\n",
    "\n",
    "# for plotting, remove later\n",
    "import matplotlib\n",
    "import matplotlib.pyplot as plt"
   ]
  },
  {
   "cell_type": "code",
   "execution_count": null,
   "metadata": {},
   "outputs": [],
   "source": [
    "EEG_h = np.load('/home/e/etayhay/frankm/Mazza2023/data/simulations_processed/EEG_h.npy',allow_pickle=True).item(0)"
   ]
  },
  {
   "cell_type": "code",
   "execution_count": null,
   "metadata": {},
   "outputs": [],
   "source": [
    "\n",
    "peaks = []\n",
    "for i in range(60):\n",
    "    peakind = np.where(EEG_h[str(1000+i)]['ps_wel']==max(EEG_h[str(1000+i)]['ps_wel']))[0][0]\n",
    "    peaks.append(EEG_h['mean_psd']['freq_wel'][peakind])\n",
    "\n",
    "peaks = np.array(peaks)\n",
    "\n",
    "print(f'Max peak = {round(peaks.mean(),2)} +/- {round(peaks.std(),2)} Hz')"
   ]
  },
  {
   "cell_type": "markdown",
   "metadata": {},
   "source": [
    "## Spectrogram events\n",
    "\n",
    "### Elevated power 1 sd larger than signal mean"
   ]
  },
  {
   "cell_type": "code",
   "execution_count": null,
   "metadata": {},
   "outputs": [],
   "source": [
    "def bandPassFilter(signal,low,high):\n",
    "    order = 2\n",
    "    b, a = ss.butter(order,[low,high],btype='bandpass',fs=sampling_rate)\n",
    "    y = ss.filtfilt(b, a, signal)\n",
    "    return(y)"
   ]
  },
  {
   "cell_type": "code",
   "execution_count": null,
   "metadata": {},
   "outputs": [],
   "source": [
    "low, hight = 4,12\n",
    "sampling_rate = 40000\n",
    "pwidth = 40000*.100 # event must last for 100ms\n",
    "\n",
    "plot = False\n",
    "\n",
    "w = []\n",
    "n = []\n",
    "\n",
    "for i in range(60):\n",
    "    bp = bandPassFilter(EEG_h[str(1000+i)]['ts_raw'][80000:],low,hight)\n",
    "    detrend_env = ss.detrend(np.abs(ss.hilbert((bp))),type='constant')\n",
    "    thresh = detrend_env.std()\n",
    "    p = ss.find_peaks(detrend_env,height=thresh,width=pwidth)\n",
    "    \n",
    "    w.append(p[1]['widths'].mean()/40000)\n",
    "    n.append(len(p[1]['widths']))\n",
    "    \n",
    "\n",
    "    if plot and i==0:\n",
    "        fig = plt.figure(figsize=(15,5))\n",
    "        ax1 = plt.subplot(111)\n",
    "        ax1.plot(detrend_env)\n",
    "        ax1.axhline(thresh,color='k')\n",
    "        ax1.scatter(p[0],p[1]['peak_heights'],color='orange')\n",
    "        ax1.set_title('Theta-Alpha Events')\n",
    "\n",
    "        \n",
    "w = np.array(w)\n",
    "n = np.array(n)\n",
    "\n",
    "print(f'{round(n.mean(),2)} +/- {round(n.std(),2)} theta-alpha events,lasting {round(w.mean(),3)} +/- {round(w.std(),3)} s')\n",
    " "
   ]
  },
  {
   "cell_type": "code",
   "execution_count": null,
   "metadata": {},
   "outputs": [],
   "source": []
  }
 ],
 "metadata": {
  "kernelspec": {
   "display_name": "EMBARC",
   "language": "python",
   "name": "embarc"
  },
  "language_info": {
   "codemirror_mode": {
    "name": "ipython",
    "version": 3
   },
   "file_extension": ".py",
   "mimetype": "text/x-python",
   "name": "python",
   "nbconvert_exporter": "python",
   "pygments_lexer": "ipython3",
   "version": "3.9.10"
  }
 },
 "nbformat": 4,
 "nbformat_minor": 4
}
