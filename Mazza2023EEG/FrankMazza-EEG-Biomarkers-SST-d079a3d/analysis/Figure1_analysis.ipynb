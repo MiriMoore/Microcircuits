{
 "cells": [
  {
   "cell_type": "code",
   "execution_count": null,
   "metadata": {},
   "outputs": [],
   "source": [
    "import numpy as np"
   ]
  },
  {
   "cell_type": "code",
   "execution_count": null,
   "metadata": {},
   "outputs": [],
   "source": [
    "### Create EEG\n",
    "\n",
    "EEG = np.load('/home/e/etayhay/frankm/Mazza2021/data/EEG_h.npy',allow_pickle=True).item(0)\n",
    "np.save('Fig1_EEG.npy',EEG['1000']['ts_raw'][79999:160000])"
   ]
  },
  {
   "cell_type": "code",
   "execution_count": null,
   "metadata": {},
   "outputs": [],
   "source": [
    "### Create LFP\n",
    "\n",
    "# same as EEG but from output"
   ]
  },
  {
   "cell_type": "code",
   "execution_count": null,
   "metadata": {},
   "outputs": [],
   "source": [
    "### Create Spikes\n",
    "spikes = np.load('/scratch/e/etayhay/frankm/Mazza2021_output/Healthy/SPIKES_Seed1000.npy',allow_pickle=True).item(0)\n",
    "np.save('Fig1_Spikes.npy',spikes)"
   ]
  },
  {
   "cell_type": "code",
   "execution_count": null,
   "metadata": {},
   "outputs": [],
   "source": [
    "#A created in figure"
   ]
  }
 ],
 "metadata": {
  "kernelspec": {
   "display_name": "EMBARC",
   "language": "python",
   "name": "embarc"
  },
  "language_info": {
   "codemirror_mode": {
    "name": "ipython",
    "version": 3
   },
   "file_extension": ".py",
   "mimetype": "text/x-python",
   "name": "python",
   "nbconvert_exporter": "python",
   "pygments_lexer": "ipython3",
   "version": "3.9.10"
  }
 },
 "nbformat": 4,
 "nbformat_minor": 4
}
